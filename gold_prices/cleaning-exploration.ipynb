{
 "cells": [
  {
   "cell_type": "markdown",
   "id": "72465ef8-b832-4d81-be93-023661b7c212",
   "metadata": {},
   "source": [
    "# Header"
   ]
  },
  {
   "cell_type": "code",
   "execution_count": 65,
   "id": "60e98e8e-48ca-4d7c-96c3-ad77b52090e1",
   "metadata": {},
   "outputs": [],
   "source": [
    "import datetime as dt\n",
    "import matplotlib.pyplot as plt\n",
    "import numpy as np\n",
    "import pandas as pd\n",
    "from scipy.interpolate import CubicSpline"
   ]
  },
  {
   "cell_type": "markdown",
   "id": "ca914453-f25f-4a93-bf1d-26b8147a0c1f",
   "metadata": {},
   "source": [
    "# Load Data"
   ]
  },
  {
   "cell_type": "code",
   "execution_count": 83,
   "id": "ca72b26d-bd90-42f5-aa96-47fbd9762a86",
   "metadata": {},
   "outputs": [],
   "source": [
    "gold_prices = pd.read_csv(\"./data/daily.csv\")"
   ]
  },
  {
   "cell_type": "code",
   "execution_count": 84,
   "id": "184d4863-6666-4fe1-a07b-79a8da091323",
   "metadata": {},
   "outputs": [
    {
     "data": {
      "text/html": [
       "<div>\n",
       "<style scoped>\n",
       "    .dataframe tbody tr th:only-of-type {\n",
       "        vertical-align: middle;\n",
       "    }\n",
       "\n",
       "    .dataframe tbody tr th {\n",
       "        vertical-align: top;\n",
       "    }\n",
       "\n",
       "    .dataframe thead th {\n",
       "        text-align: right;\n",
       "    }\n",
       "</style>\n",
       "<table border=\"1\" class=\"dataframe\">\n",
       "  <thead>\n",
       "    <tr style=\"text-align: right;\">\n",
       "      <th></th>\n",
       "      <th>Date</th>\n",
       "      <th>Price</th>\n",
       "    </tr>\n",
       "  </thead>\n",
       "  <tbody>\n",
       "    <tr>\n",
       "      <th>0</th>\n",
       "      <td>1997-01-07</td>\n",
       "      <td>3.82</td>\n",
       "    </tr>\n",
       "    <tr>\n",
       "      <th>1</th>\n",
       "      <td>1997-01-08</td>\n",
       "      <td>3.80</td>\n",
       "    </tr>\n",
       "    <tr>\n",
       "      <th>2</th>\n",
       "      <td>1997-01-09</td>\n",
       "      <td>3.61</td>\n",
       "    </tr>\n",
       "    <tr>\n",
       "      <th>3</th>\n",
       "      <td>1997-01-10</td>\n",
       "      <td>3.92</td>\n",
       "    </tr>\n",
       "    <tr>\n",
       "      <th>4</th>\n",
       "      <td>1997-01-13</td>\n",
       "      <td>4.00</td>\n",
       "    </tr>\n",
       "  </tbody>\n",
       "</table>\n",
       "</div>"
      ],
      "text/plain": [
       "         Date  Price\n",
       "0  1997-01-07   3.82\n",
       "1  1997-01-08   3.80\n",
       "2  1997-01-09   3.61\n",
       "3  1997-01-10   3.92\n",
       "4  1997-01-13   4.00"
      ]
     },
     "execution_count": 84,
     "metadata": {},
     "output_type": "execute_result"
    }
   ],
   "source": [
    "gold_prices.head()"
   ]
  },
  {
   "cell_type": "code",
   "execution_count": 85,
   "id": "90b79e82-8162-4ef0-bffc-7bee69fcc8ac",
   "metadata": {},
   "outputs": [
    {
     "name": "stdout",
     "output_type": "stream",
     "text": [
      "<class 'pandas.core.frame.DataFrame'>\n",
      "RangeIndex: 5480 entries, 0 to 5479\n",
      "Data columns (total 2 columns):\n",
      " #   Column  Non-Null Count  Dtype  \n",
      "---  ------  --------------  -----  \n",
      " 0   Date    5480 non-null   object \n",
      " 1   Price   5479 non-null   float64\n",
      "dtypes: float64(1), object(1)\n",
      "memory usage: 85.8+ KB\n"
     ]
    }
   ],
   "source": [
    "gold_prices.info()"
   ]
  },
  {
   "cell_type": "code",
   "execution_count": 86,
   "id": "227f72aa-fb16-4bab-b90a-cb7df56d367d",
   "metadata": {},
   "outputs": [],
   "source": [
    "# Convert Date to datetime for plotting\n",
    "gold_prices = gold_prices.astype({\"Date\": \"datetime64[ns]\"})"
   ]
  },
  {
   "cell_type": "markdown",
   "id": "018a62af-02b0-43b3-b2f4-cc60de88cf50",
   "metadata": {},
   "source": [
    "# Missing Data"
   ]
  },
  {
   "cell_type": "markdown",
   "id": "108d8bd1-5646-4843-81c1-b0996d6ec104",
   "metadata": {},
   "source": [
    "## Nans"
   ]
  },
  {
   "cell_type": "code",
   "execution_count": 87,
   "id": "b649230b-03e4-4637-b372-6317d293aaa0",
   "metadata": {},
   "outputs": [
    {
     "data": {
      "text/html": [
       "<div>\n",
       "<style scoped>\n",
       "    .dataframe tbody tr th:only-of-type {\n",
       "        vertical-align: middle;\n",
       "    }\n",
       "\n",
       "    .dataframe tbody tr th {\n",
       "        vertical-align: top;\n",
       "    }\n",
       "\n",
       "    .dataframe thead th {\n",
       "        text-align: right;\n",
       "    }\n",
       "</style>\n",
       "<table border=\"1\" class=\"dataframe\">\n",
       "  <thead>\n",
       "    <tr style=\"text-align: right;\">\n",
       "      <th></th>\n",
       "      <th>Date</th>\n",
       "      <th>Price</th>\n",
       "    </tr>\n",
       "  </thead>\n",
       "  <tbody>\n",
       "    <tr>\n",
       "      <th>5284</th>\n",
       "      <td>2018-01-05</td>\n",
       "      <td>NaN</td>\n",
       "    </tr>\n",
       "  </tbody>\n",
       "</table>\n",
       "</div>"
      ],
      "text/plain": [
       "           Date  Price\n",
       "5284 2018-01-05    NaN"
      ]
     },
     "execution_count": 87,
     "metadata": {},
     "output_type": "execute_result"
    }
   ],
   "source": [
    "gold_prices[gold_prices.Price.isna()]"
   ]
  },
  {
   "cell_type": "markdown",
   "id": "938c1626-ef25-4af7-ab39-0a5d3ff5c654",
   "metadata": {},
   "source": [
    "Let's look around the missing point.\n",
    "\n",
    "From the graph below it looks like there are also some other missing points. Likely from missing (date, price) tuples."
   ]
  },
  {
   "cell_type": "code",
   "execution_count": 91,
   "id": "e0c108a8-f219-4a91-8375-2adbb0568167",
   "metadata": {},
   "outputs": [
    {
     "data": {
      "text/plain": [
       "<Axes: xlabel='Date'>"
      ]
     },
     "execution_count": 91,
     "metadata": {},
     "output_type": "execute_result"
    },
    {
     "data": {
      "image/png": "[encoded data removed]",
      "text/plain": [
       "<Figure size 640x480 with 1 Axes>"
      ]
     },
     "metadata": {},
     "output_type": "display_data"
    }
   ],
   "source": [
    "(\n",
    "    gold_prices[\n",
    "        gold_prices.Date.dt.date.between(\n",
    "            dt.date(2018, 1, 1),\n",
    "            dt.date(2018, 1, 11)\n",
    "        )\n",
    "    ]\n",
    "    .plot(\n",
    "        kind='line',\n",
    "        x='Date',\n",
    "        y='Price',\n",
    "        marker='o'\n",
    "    )\n",
    ")"
   ]
  },
  {
   "cell_type": "markdown",
   "id": "b4dbd483-a936-44b2-82d0-2cc1f5c4850e",
   "metadata": {},
   "source": [
    "### Interpolate to fill nans"
   ]
  },
  {
   "cell_type": "code",
   "execution_count": 58,
   "id": "b06adf37-49bc-43f3-ae51-da18f31a5cd1",
   "metadata": {},
   "outputs": [],
   "source": [
    "surronding_values = (\n",
    "    gold_prices[\n",
    "        gold_prices.Date.dt.date.between(\n",
    "            dt.date(2018, 1, 3),\n",
    "            dt.date(2018, 1, 9)\n",
    "        )\n",
    "    ]\n",
    "    .Price\n",
    "    .dropna()\n",
    "    .values\n",
    ")\n",
    "xs = np.array([0,1,3,4])  # Notice that 2 is missing, that's the day we want to impute"
   ]
  },
  {
   "cell_type": "code",
   "execution_count": 61,
   "id": "ea8b7d46-8d8c-4267-979f-5b2b9274f641",
   "metadata": {},
   "outputs": [],
   "source": [
    "cs = CubicSpline(xs, surronding_values)"
   ]
  },
  {
   "cell_type": "code",
   "execution_count": 80,
   "id": "dbb2e9b5-5c43-4926-bd7e-a7540c9c4402",
   "metadata": {},
   "outputs": [
    {
     "data": {
      "text/plain": [
       "[<matplotlib.lines.Line2D at 0x7f4898b4a950>]"
      ]
     },
     "execution_count": 80,
     "metadata": {},
     "output_type": "execute_result"
    },
    {
     "data": {
      "image/png": "[encoded data removed]",
      "text/plain": [
       "<Figure size 640x480 with 1 Axes>"
      ]
     },
     "metadata": {},
     "output_type": "display_data"
    }
   ],
   "source": [
    "prices = gold_prices[\n",
    "    gold_prices.Date.dt.date.between(\n",
    "        dt.date(2018, 1, 3),\n",
    "        dt.date(2018, 1, 9)\n",
    "    )\n",
    "].Price\n",
    "all_xs = np.arange(0,5)\n",
    "\n",
    "fig, ax = plt.subplots()\n",
    "\n",
    "ax.plot(all_xs, cs(all_xs), '.-')\n",
    "ax.plot(all_xs, prices, 'x-')"
   ]
  },
  {
   "cell_type": "markdown",
   "id": "2ce9bf52-6d9a-47c4-86f4-c1de36e0638e",
   "metadata": {},
   "source": [
    "Above is the graph including the extrapolation. Looks good to me! If there were more missing data, we would do something more \n",
    "\n",
    "Now that we know the interpolation is decent, let's add it to the dataset."
   ]
  },
  {
   "cell_type": "code",
   "execution_count": 90,
   "id": "f86d3e0e-b0bf-44a7-a377-55be553f5888",
   "metadata": {},
   "outputs": [],
   "source": [
    "gold_prices.loc[gold_prices.Date.dt.date == dt.date(2018, 1, 5), 'Price'] = cs(2)"
   ]
  },
  {
   "cell_type": "markdown",
   "id": "ebf3f93a-385d-40e8-bae3-a8b4917eaade",
   "metadata": {},
   "source": [
    "## Missing Dates"
   ]
  },
  {
   "cell_type": "markdown",
   "id": "68c4a215-38da-4252-8679-e268389fac0e",
   "metadata": {},
   "source": [
    "Take the difference between dates for neighboring rows and look for diffs that are greater than on day. Now that I'm thinking about this, it's possible the missing dates are weekends or holidays. Let's continue on investigating."
   ]
  },
  {
   "cell_type": "code",
   "execution_count": 37,
   "id": "17944aed-c103-44ac-a889-2ed2994207de",
   "metadata": {},
   "outputs": [],
   "source": [
    "temp_df = gold_prices[['Date']].copy()\n",
    "temp_df['day_diff'] = temp_df.Date.diff().dt.days\n",
    "temp_df['weekday'] = temp_df.Date.dt.weekday"
   ]
  },
  {
   "cell_type": "code",
   "execution_count": 38,
   "id": "9cfff3ca-b966-4a12-a4c4-4b5f410e7a48",
   "metadata": {},
   "outputs": [
    {
     "data": {
      "text/html": [
       "<div>\n",
       "<style scoped>\n",
       "    .dataframe tbody tr th:only-of-type {\n",
       "        vertical-align: middle;\n",
       "    }\n",
       "\n",
       "    .dataframe tbody tr th {\n",
       "        vertical-align: top;\n",
       "    }\n",
       "\n",
       "    .dataframe thead th {\n",
       "        text-align: right;\n",
       "    }\n",
       "</style>\n",
       "<table border=\"1\" class=\"dataframe\">\n",
       "  <thead>\n",
       "    <tr style=\"text-align: right;\">\n",
       "      <th></th>\n",
       "      <th>Date</th>\n",
       "      <th>day_diff</th>\n",
       "      <th>weekday</th>\n",
       "    </tr>\n",
       "  </thead>\n",
       "  <tbody>\n",
       "    <tr>\n",
       "      <th>0</th>\n",
       "      <td>1997-01-07</td>\n",
       "      <td>NaN</td>\n",
       "      <td>1</td>\n",
       "    </tr>\n",
       "    <tr>\n",
       "      <th>1</th>\n",
       "      <td>1997-01-08</td>\n",
       "      <td>1.0</td>\n",
       "      <td>2</td>\n",
       "    </tr>\n",
       "    <tr>\n",
       "      <th>2</th>\n",
       "      <td>1997-01-09</td>\n",
       "      <td>1.0</td>\n",
       "      <td>3</td>\n",
       "    </tr>\n",
       "    <tr>\n",
       "      <th>3</th>\n",
       "      <td>1997-01-10</td>\n",
       "      <td>1.0</td>\n",
       "      <td>4</td>\n",
       "    </tr>\n",
       "    <tr>\n",
       "      <th>4</th>\n",
       "      <td>1997-01-13</td>\n",
       "      <td>3.0</td>\n",
       "      <td>0</td>\n",
       "    </tr>\n",
       "  </tbody>\n",
       "</table>\n",
       "</div>"
      ],
      "text/plain": [
       "        Date  day_diff  weekday\n",
       "0 1997-01-07       NaN        1\n",
       "1 1997-01-08       1.0        2\n",
       "2 1997-01-09       1.0        3\n",
       "3 1997-01-10       1.0        4\n",
       "4 1997-01-13       3.0        0"
      ]
     },
     "execution_count": 38,
     "metadata": {},
     "output_type": "execute_result"
    }
   ],
   "source": [
    "temp_df.head()"
   ]
  },
  {
   "cell_type": "markdown",
   "id": "00a952a6-38c6-473f-8ef4-8f09db02a38a",
   "metadata": {},
   "source": [
    "Looks like 0 is monday ... 6 is sunday. What is the distributino of days? It looks like I was correct, days 5 and 6 are completely absent, indicating that weekends are not included."
   ]
  },
  {
   "cell_type": "code",
   "execution_count": 39,
   "id": "6b9d8386-bff9-46a0-bd2e-f3e4526cec71",
   "metadata": {},
   "outputs": [
    {
     "data": {
      "text/html": [
       "<div>\n",
       "<style scoped>\n",
       "    .dataframe tbody tr th:only-of-type {\n",
       "        vertical-align: middle;\n",
       "    }\n",
       "\n",
       "    .dataframe tbody tr th {\n",
       "        vertical-align: top;\n",
       "    }\n",
       "\n",
       "    .dataframe thead th {\n",
       "        text-align: right;\n",
       "    }\n",
       "</style>\n",
       "<table border=\"1\" class=\"dataframe\">\n",
       "  <thead>\n",
       "    <tr style=\"text-align: right;\">\n",
       "      <th></th>\n",
       "      <th>Date</th>\n",
       "      <th>day_diff</th>\n",
       "    </tr>\n",
       "    <tr>\n",
       "      <th>weekday</th>\n",
       "      <th></th>\n",
       "      <th></th>\n",
       "    </tr>\n",
       "  </thead>\n",
       "  <tbody>\n",
       "    <tr>\n",
       "      <th>0</th>\n",
       "      <td>1038</td>\n",
       "      <td>1038</td>\n",
       "    </tr>\n",
       "    <tr>\n",
       "      <th>1</th>\n",
       "      <td>1126</td>\n",
       "      <td>1125</td>\n",
       "    </tr>\n",
       "    <tr>\n",
       "      <th>2</th>\n",
       "      <td>1126</td>\n",
       "      <td>1126</td>\n",
       "    </tr>\n",
       "    <tr>\n",
       "      <th>3</th>\n",
       "      <td>1106</td>\n",
       "      <td>1106</td>\n",
       "    </tr>\n",
       "    <tr>\n",
       "      <th>4</th>\n",
       "      <td>1084</td>\n",
       "      <td>1084</td>\n",
       "    </tr>\n",
       "  </tbody>\n",
       "</table>\n",
       "</div>"
      ],
      "text/plain": [
       "         Date  day_diff\n",
       "weekday                \n",
       "0        1038      1038\n",
       "1        1126      1125\n",
       "2        1126      1126\n",
       "3        1106      1106\n",
       "4        1084      1084"
      ]
     },
     "execution_count": 39,
     "metadata": {},
     "output_type": "execute_result"
    }
   ],
   "source": [
    "(\n",
    "    temp_df\n",
    "    .groupby('weekday')\n",
    "    .count()\n",
    ")"
   ]
  },
  {
   "cell_type": "code",
   "execution_count": 40,
   "id": "245bf85a-820e-4866-adc0-f18a83a2f583",
   "metadata": {},
   "outputs": [
    {
     "data": {
      "text/html": [
       "<div>\n",
       "<style scoped>\n",
       "    .dataframe tbody tr th:only-of-type {\n",
       "        vertical-align: middle;\n",
       "    }\n",
       "\n",
       "    .dataframe tbody tr th {\n",
       "        vertical-align: top;\n",
       "    }\n",
       "\n",
       "    .dataframe thead th {\n",
       "        text-align: right;\n",
       "    }\n",
       "</style>\n",
       "<table border=\"1\" class=\"dataframe\">\n",
       "  <thead>\n",
       "    <tr style=\"text-align: right;\">\n",
       "      <th></th>\n",
       "      <th>Date</th>\n",
       "      <th>weekday</th>\n",
       "    </tr>\n",
       "    <tr>\n",
       "      <th>day_diff</th>\n",
       "      <th></th>\n",
       "      <th></th>\n",
       "    </tr>\n",
       "  </thead>\n",
       "  <tbody>\n",
       "    <tr>\n",
       "      <th>1.0</th>\n",
       "      <td>4315</td>\n",
       "      <td>4315</td>\n",
       "    </tr>\n",
       "    <tr>\n",
       "      <th>2.0</th>\n",
       "      <td>29</td>\n",
       "      <td>29</td>\n",
       "    </tr>\n",
       "    <tr>\n",
       "      <th>3.0</th>\n",
       "      <td>989</td>\n",
       "      <td>989</td>\n",
       "    </tr>\n",
       "    <tr>\n",
       "      <th>4.0</th>\n",
       "      <td>129</td>\n",
       "      <td>129</td>\n",
       "    </tr>\n",
       "    <tr>\n",
       "      <th>5.0</th>\n",
       "      <td>16</td>\n",
       "      <td>16</td>\n",
       "    </tr>\n",
       "    <tr>\n",
       "      <th>15.0</th>\n",
       "      <td>1</td>\n",
       "      <td>1</td>\n",
       "    </tr>\n",
       "  </tbody>\n",
       "</table>\n",
       "</div>"
      ],
      "text/plain": [
       "          Date  weekday\n",
       "day_diff               \n",
       "1.0       4315     4315\n",
       "2.0         29       29\n",
       "3.0        989      989\n",
       "4.0        129      129\n",
       "5.0         16       16\n",
       "15.0         1        1"
      ]
     },
     "execution_count": 40,
     "metadata": {},
     "output_type": "execute_result"
    }
   ],
   "source": [
    "(\n",
    "    temp_df\n",
    "    .groupby('day_diff')\n",
    "    .count()\n",
    ")"
   ]
  },
  {
   "cell_type": "code",
   "execution_count": 41,
   "id": "c22707d2-896a-4c31-8a6a-321003ce7825",
   "metadata": {},
   "outputs": [
    {
     "data": {
      "text/html": [
       "<div>\n",
       "<style scoped>\n",
       "    .dataframe tbody tr th:only-of-type {\n",
       "        vertical-align: middle;\n",
       "    }\n",
       "\n",
       "    .dataframe tbody tr th {\n",
       "        vertical-align: top;\n",
       "    }\n",
       "\n",
       "    .dataframe thead th {\n",
       "        text-align: right;\n",
       "    }\n",
       "</style>\n",
       "<table border=\"1\" class=\"dataframe\">\n",
       "  <thead>\n",
       "    <tr style=\"text-align: right;\">\n",
       "      <th></th>\n",
       "      <th>Date</th>\n",
       "      <th>day_diff</th>\n",
       "      <th>weekday</th>\n",
       "    </tr>\n",
       "  </thead>\n",
       "  <tbody>\n",
       "    <tr>\n",
       "      <th>2181</th>\n",
       "      <td>2005-10-07</td>\n",
       "      <td>15.0</td>\n",
       "      <td>4</td>\n",
       "    </tr>\n",
       "  </tbody>\n",
       "</table>\n",
       "</div>"
      ],
      "text/plain": [
       "           Date  day_diff  weekday\n",
       "2181 2005-10-07      15.0        4"
      ]
     },
     "execution_count": 41,
     "metadata": {},
     "output_type": "execute_result"
    }
   ],
   "source": [
    "temp_df[temp_df.day_diff==15]"
   ]
  },
  {
   "cell_type": "markdown",
   "id": "0227f8c5-5037-4d2b-ac7b-8deeb440b1fa",
   "metadata": {},
   "source": [
    "Below is the days around where there is a 15 day gap in the record. I took a few minutes to search and see if there was any reason for this; however, I did not."
   ]
  },
  {
   "cell_type": "code",
   "execution_count": 47,
   "id": "c70d86f5-2f57-484e-968d-d234d2960e3b",
   "metadata": {},
   "outputs": [
    {
     "data": {
      "text/html": [
       "<div>\n",
       "<style scoped>\n",
       "    .dataframe tbody tr th:only-of-type {\n",
       "        vertical-align: middle;\n",
       "    }\n",
       "\n",
       "    .dataframe tbody tr th {\n",
       "        vertical-align: top;\n",
       "    }\n",
       "\n",
       "    .dataframe thead th {\n",
       "        text-align: right;\n",
       "    }\n",
       "</style>\n",
       "<table border=\"1\" class=\"dataframe\">\n",
       "  <thead>\n",
       "    <tr style=\"text-align: right;\">\n",
       "      <th></th>\n",
       "      <th>Date</th>\n",
       "      <th>day_diff</th>\n",
       "      <th>weekday</th>\n",
       "    </tr>\n",
       "  </thead>\n",
       "  <tbody>\n",
       "    <tr>\n",
       "      <th>2178</th>\n",
       "      <td>2005-09-20</td>\n",
       "      <td>1.0</td>\n",
       "      <td>1</td>\n",
       "    </tr>\n",
       "    <tr>\n",
       "      <th>2179</th>\n",
       "      <td>2005-09-21</td>\n",
       "      <td>1.0</td>\n",
       "      <td>2</td>\n",
       "    </tr>\n",
       "    <tr>\n",
       "      <th>2180</th>\n",
       "      <td>2005-09-22</td>\n",
       "      <td>1.0</td>\n",
       "      <td>3</td>\n",
       "    </tr>\n",
       "    <tr>\n",
       "      <th>2181</th>\n",
       "      <td>2005-10-07</td>\n",
       "      <td>15.0</td>\n",
       "      <td>4</td>\n",
       "    </tr>\n",
       "    <tr>\n",
       "      <th>2182</th>\n",
       "      <td>2005-10-10</td>\n",
       "      <td>3.0</td>\n",
       "      <td>0</td>\n",
       "    </tr>\n",
       "    <tr>\n",
       "      <th>2183</th>\n",
       "      <td>2005-10-11</td>\n",
       "      <td>1.0</td>\n",
       "      <td>1</td>\n",
       "    </tr>\n",
       "    <tr>\n",
       "      <th>2184</th>\n",
       "      <td>2005-10-12</td>\n",
       "      <td>1.0</td>\n",
       "      <td>2</td>\n",
       "    </tr>\n",
       "  </tbody>\n",
       "</table>\n",
       "</div>"
      ],
      "text/plain": [
       "           Date  day_diff  weekday\n",
       "2178 2005-09-20       1.0        1\n",
       "2179 2005-09-21       1.0        2\n",
       "2180 2005-09-22       1.0        3\n",
       "2181 2005-10-07      15.0        4\n",
       "2182 2005-10-10       3.0        0\n",
       "2183 2005-10-11       1.0        1\n",
       "2184 2005-10-12       1.0        2"
      ]
     },
     "execution_count": 47,
     "metadata": {},
     "output_type": "execute_result"
    }
   ],
   "source": [
    "temp_df[temp_df.Date.dt.date.between(dt.date(2005, 9, 20), dt.date(2005, 10, 12))]"
   ]
  },
  {
   "cell_type": "code",
   "execution_count": 46,
   "id": "a131eab3-cfa6-4259-af0e-7d4c4925621d",
   "metadata": {},
   "outputs": [
    {
     "data": {
      "text/html": [
       "<div>\n",
       "<style scoped>\n",
       "    .dataframe tbody tr th:only-of-type {\n",
       "        vertical-align: middle;\n",
       "    }\n",
       "\n",
       "    .dataframe tbody tr th {\n",
       "        vertical-align: top;\n",
       "    }\n",
       "\n",
       "    .dataframe thead th {\n",
       "        text-align: right;\n",
       "    }\n",
       "</style>\n",
       "<table border=\"1\" class=\"dataframe\">\n",
       "  <thead>\n",
       "    <tr style=\"text-align: right;\">\n",
       "      <th></th>\n",
       "      <th>Date</th>\n",
       "      <th>day_diff</th>\n",
       "      <th>weekday</th>\n",
       "    </tr>\n",
       "  </thead>\n",
       "  <tbody>\n",
       "    <tr>\n",
       "      <th>29</th>\n",
       "      <td>1997-02-18</td>\n",
       "      <td>4.0</td>\n",
       "      <td>1</td>\n",
       "    </tr>\n",
       "    <tr>\n",
       "      <th>57</th>\n",
       "      <td>1997-03-31</td>\n",
       "      <td>4.0</td>\n",
       "      <td>0</td>\n",
       "    </tr>\n",
       "    <tr>\n",
       "      <th>97</th>\n",
       "      <td>1997-05-27</td>\n",
       "      <td>4.0</td>\n",
       "      <td>1</td>\n",
       "    </tr>\n",
       "    <tr>\n",
       "      <th>125</th>\n",
       "      <td>1997-07-07</td>\n",
       "      <td>4.0</td>\n",
       "      <td>0</td>\n",
       "    </tr>\n",
       "    <tr>\n",
       "      <th>165</th>\n",
       "      <td>1997-09-02</td>\n",
       "      <td>4.0</td>\n",
       "      <td>1</td>\n",
       "    </tr>\n",
       "    <tr>\n",
       "      <th>...</th>\n",
       "      <td>...</td>\n",
       "      <td>...</td>\n",
       "      <td>...</td>\n",
       "    </tr>\n",
       "    <tr>\n",
       "      <th>5290</th>\n",
       "      <td>2018-01-16</td>\n",
       "      <td>4.0</td>\n",
       "      <td>1</td>\n",
       "    </tr>\n",
       "    <tr>\n",
       "      <th>5314</th>\n",
       "      <td>2018-02-20</td>\n",
       "      <td>4.0</td>\n",
       "      <td>1</td>\n",
       "    </tr>\n",
       "    <tr>\n",
       "      <th>5342</th>\n",
       "      <td>2018-04-02</td>\n",
       "      <td>4.0</td>\n",
       "      <td>0</td>\n",
       "    </tr>\n",
       "    <tr>\n",
       "      <th>5382</th>\n",
       "      <td>2018-05-29</td>\n",
       "      <td>4.0</td>\n",
       "      <td>1</td>\n",
       "    </tr>\n",
       "    <tr>\n",
       "      <th>5450</th>\n",
       "      <td>2018-09-04</td>\n",
       "      <td>4.0</td>\n",
       "      <td>1</td>\n",
       "    </tr>\n",
       "  </tbody>\n",
       "</table>\n",
       "<p>129 rows × 3 columns</p>\n",
       "</div>"
      ],
      "text/plain": [
       "           Date  day_diff  weekday\n",
       "29   1997-02-18       4.0        1\n",
       "57   1997-03-31       4.0        0\n",
       "97   1997-05-27       4.0        1\n",
       "125  1997-07-07       4.0        0\n",
       "165  1997-09-02       4.0        1\n",
       "...         ...       ...      ...\n",
       "5290 2018-01-16       4.0        1\n",
       "5314 2018-02-20       4.0        1\n",
       "5342 2018-04-02       4.0        0\n",
       "5382 2018-05-29       4.0        1\n",
       "5450 2018-09-04       4.0        1\n",
       "\n",
       "[129 rows x 3 columns]"
      ]
     },
     "execution_count": 46,
     "metadata": {},
     "output_type": "execute_result"
    }
   ],
   "source": [
    "temp_df[temp_df.day_diff==4]"
   ]
  },
  {
   "cell_type": "markdown",
   "id": "727e407a-23c5-40e7-8511-4854fd8aa8c9",
   "metadata": {},
   "source": [
    "### Thoughts"
   ]
  },
  {
   "cell_type": "markdown",
   "id": "e15f1644-1c07-4ce1-9983-d3fd780dd06f",
   "metadata": {},
   "source": [
    "What should I do about the missing data? When considering the weekends, it seems like it would be a mistake to impute the data on those days. Does it matter that that the data are not represented on equal time intervals? It is the case that more information could be learned in the extra two days given by the weekend that the correlation between Friday and Monday may be different from the correlations between any two adjacent days. However, there is also less business conducted in the interveneing days and less information to be learned that may have an affect on the market. \n",
    "\n",
    "If we were to impute values what would be the best method? Perhaps some third order polynomial extrapolation between Friday and Monday? \n",
    "\n",
    "I think, for now, for a first pass, we will just leave the missing dates as missing and consider each date a directly following the previous regardless of the gap in days."
   ]
  },
  {
   "cell_type": "code",
   "execution_count": null,
   "id": "a6811884-d781-4a7a-81af-9be374f19b1c",
   "metadata": {},
   "outputs": [],
   "source": []
  }
 ],
 "metadata": {
  "kernelspec": {
   "display_name": "Python 3 (ipykernel)",
   "language": "python",
   "name": "python3"
  },
  "language_info": {
   "codemirror_mode": {
    "name": "ipython",
    "version": 3
   },
   "file_extension": ".py",
   "mimetype": "text/x-python",
   "name": "python",
   "nbconvert_exporter": "python",
   "pygments_lexer": "ipython3",
   "version": "3.10.13"
  }
 },
 "nbformat": 4,
 "nbformat_minor": 5
}
